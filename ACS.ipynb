{
 "cells": [
  {
   "cell_type": "code",
   "execution_count": 1,
   "metadata": {},
   "outputs": [],
   "source": [
    "import pandas as pd\n",
    "import numpy as np\n",
    "import random\n",
    "import pandas as pd\n",
    "import collections\n",
    "import scipy.io\n",
    "import csv\n",
    "import math"
   ]
  },
  {
   "cell_type": "code",
   "execution_count": 2,
   "metadata": {},
   "outputs": [
    {
     "data": {
      "text/html": [
       "<div>\n",
       "<style scoped>\n",
       "    .dataframe tbody tr th:only-of-type {\n",
       "        vertical-align: middle;\n",
       "    }\n",
       "\n",
       "    .dataframe tbody tr th {\n",
       "        vertical-align: top;\n",
       "    }\n",
       "\n",
       "    .dataframe thead th {\n",
       "        text-align: right;\n",
       "    }\n",
       "</style>\n",
       "<table border=\"1\" class=\"dataframe\">\n",
       "  <thead>\n",
       "    <tr style=\"text-align: right;\">\n",
       "      <th></th>\n",
       "      <th>Unnamed: 0</th>\n",
       "      <th>CouId</th>\n",
       "      <th>County</th>\n",
       "      <th>CrmRatePer100k</th>\n",
       "      <th>MURDER</th>\n",
       "      <th>RAPE</th>\n",
       "      <th>ROBBERY</th>\n",
       "      <th>AGASSLT</th>\n",
       "      <th>BURGLRY</th>\n",
       "      <th>LARCENY</th>\n",
       "      <th>...</th>\n",
       "      <th>Walk</th>\n",
       "      <th>OtherTransp</th>\n",
       "      <th>WorkAtHome</th>\n",
       "      <th>MeanCommute</th>\n",
       "      <th>Employed</th>\n",
       "      <th>PrivateWork</th>\n",
       "      <th>PublicWork</th>\n",
       "      <th>SelfEmployed</th>\n",
       "      <th>FamilyWork</th>\n",
       "      <th>Unemployment</th>\n",
       "    </tr>\n",
       "  </thead>\n",
       "  <tbody>\n",
       "    <tr>\n",
       "      <th>0</th>\n",
       "      <td>0</td>\n",
       "      <td>1001</td>\n",
       "      <td>Autauga County</td>\n",
       "      <td>251.601926</td>\n",
       "      <td>3.0</td>\n",
       "      <td>15.0</td>\n",
       "      <td>34.0</td>\n",
       "      <td>87.0</td>\n",
       "      <td>447.0</td>\n",
       "      <td>1233.0</td>\n",
       "      <td>...</td>\n",
       "      <td>0.6</td>\n",
       "      <td>1.3</td>\n",
       "      <td>2.5</td>\n",
       "      <td>25.8</td>\n",
       "      <td>24112</td>\n",
       "      <td>74.1</td>\n",
       "      <td>20.2</td>\n",
       "      <td>5.6</td>\n",
       "      <td>0.1</td>\n",
       "      <td>5.2</td>\n",
       "    </tr>\n",
       "    <tr>\n",
       "      <th>1</th>\n",
       "      <td>1</td>\n",
       "      <td>1003</td>\n",
       "      <td>Baldwin County</td>\n",
       "      <td>228.086325</td>\n",
       "      <td>8.0</td>\n",
       "      <td>30.0</td>\n",
       "      <td>76.0</td>\n",
       "      <td>332.0</td>\n",
       "      <td>967.0</td>\n",
       "      <td>3829.0</td>\n",
       "      <td>...</td>\n",
       "      <td>0.8</td>\n",
       "      <td>1.1</td>\n",
       "      <td>5.6</td>\n",
       "      <td>27.0</td>\n",
       "      <td>89527</td>\n",
       "      <td>80.7</td>\n",
       "      <td>12.9</td>\n",
       "      <td>6.3</td>\n",
       "      <td>0.1</td>\n",
       "      <td>5.5</td>\n",
       "    </tr>\n",
       "    <tr>\n",
       "      <th>2</th>\n",
       "      <td>2</td>\n",
       "      <td>1005</td>\n",
       "      <td>Barbour County</td>\n",
       "      <td>177.278771</td>\n",
       "      <td>0.0</td>\n",
       "      <td>4.0</td>\n",
       "      <td>8.0</td>\n",
       "      <td>36.0</td>\n",
       "      <td>90.0</td>\n",
       "      <td>362.0</td>\n",
       "      <td>...</td>\n",
       "      <td>2.2</td>\n",
       "      <td>1.7</td>\n",
       "      <td>1.3</td>\n",
       "      <td>23.4</td>\n",
       "      <td>8878</td>\n",
       "      <td>74.1</td>\n",
       "      <td>19.1</td>\n",
       "      <td>6.5</td>\n",
       "      <td>0.3</td>\n",
       "      <td>12.4</td>\n",
       "    </tr>\n",
       "    <tr>\n",
       "      <th>3</th>\n",
       "      <td>3</td>\n",
       "      <td>1007</td>\n",
       "      <td>Bibb County</td>\n",
       "      <td>217.661691</td>\n",
       "      <td>1.0</td>\n",
       "      <td>4.0</td>\n",
       "      <td>8.0</td>\n",
       "      <td>36.0</td>\n",
       "      <td>122.0</td>\n",
       "      <td>251.0</td>\n",
       "      <td>...</td>\n",
       "      <td>0.3</td>\n",
       "      <td>1.7</td>\n",
       "      <td>1.5</td>\n",
       "      <td>30.0</td>\n",
       "      <td>8171</td>\n",
       "      <td>76.0</td>\n",
       "      <td>17.4</td>\n",
       "      <td>6.3</td>\n",
       "      <td>0.3</td>\n",
       "      <td>8.2</td>\n",
       "    </tr>\n",
       "    <tr>\n",
       "      <th>4</th>\n",
       "      <td>4</td>\n",
       "      <td>1009</td>\n",
       "      <td>Blount County</td>\n",
       "      <td>210.810064</td>\n",
       "      <td>1.0</td>\n",
       "      <td>11.0</td>\n",
       "      <td>9.0</td>\n",
       "      <td>101.0</td>\n",
       "      <td>397.0</td>\n",
       "      <td>865.0</td>\n",
       "      <td>...</td>\n",
       "      <td>0.4</td>\n",
       "      <td>0.4</td>\n",
       "      <td>2.1</td>\n",
       "      <td>35.0</td>\n",
       "      <td>21380</td>\n",
       "      <td>83.9</td>\n",
       "      <td>11.9</td>\n",
       "      <td>4.0</td>\n",
       "      <td>0.1</td>\n",
       "      <td>4.9</td>\n",
       "    </tr>\n",
       "  </tbody>\n",
       "</table>\n",
       "<p>5 rows × 49 columns</p>\n",
       "</div>"
      ],
      "text/plain": [
       "   Unnamed: 0  CouId          County  CrmRatePer100k  MURDER  RAPE  ROBBERY  \\\n",
       "0           0   1001  Autauga County      251.601926     3.0  15.0     34.0   \n",
       "1           1   1003  Baldwin County      228.086325     8.0  30.0     76.0   \n",
       "2           2   1005  Barbour County      177.278771     0.0   4.0      8.0   \n",
       "3           3   1007     Bibb County      217.661691     1.0   4.0      8.0   \n",
       "4           4   1009   Blount County      210.810064     1.0  11.0      9.0   \n",
       "\n",
       "   AGASSLT  BURGLRY  LARCENY  ...  Walk  OtherTransp  WorkAtHome  MeanCommute  \\\n",
       "0     87.0    447.0   1233.0  ...   0.6          1.3         2.5         25.8   \n",
       "1    332.0    967.0   3829.0  ...   0.8          1.1         5.6         27.0   \n",
       "2     36.0     90.0    362.0  ...   2.2          1.7         1.3         23.4   \n",
       "3     36.0    122.0    251.0  ...   0.3          1.7         1.5         30.0   \n",
       "4    101.0    397.0    865.0  ...   0.4          0.4         2.1         35.0   \n",
       "\n",
       "  Employed  PrivateWork  PublicWork  SelfEmployed  FamilyWork  Unemployment  \n",
       "0    24112         74.1        20.2           5.6         0.1           5.2  \n",
       "1    89527         80.7        12.9           6.3         0.1           5.5  \n",
       "2     8878         74.1        19.1           6.5         0.3          12.4  \n",
       "3     8171         76.0        17.4           6.3         0.3           8.2  \n",
       "4    21380         83.9        11.9           4.0         0.1           4.9  \n",
       "\n",
       "[5 rows x 49 columns]"
      ]
     },
     "execution_count": 2,
     "metadata": {},
     "output_type": "execute_result"
    }
   ],
   "source": [
    "table = pd.read_csv('final.csv')\n",
    "table.fillna(0, inplace=True)\n",
    "table.head()"
   ]
  },
  {
   "cell_type": "code",
   "execution_count": 3,
   "metadata": {},
   "outputs": [
    {
     "data": {
      "text/plain": [
       "49705.00997672098"
      ]
     },
     "execution_count": 3,
     "metadata": {},
     "output_type": "execute_result"
    }
   ],
   "source": [
    "income = np.array(table['Income'].rank(pct=True))\n",
    "table['Income'].mean()"
   ]
  },
  {
   "cell_type": "code",
   "execution_count": 4,
   "metadata": {},
   "outputs": [
    {
     "data": {
      "text/plain": [
       "15.85623545061525"
      ]
     },
     "execution_count": 4,
     "metadata": {},
     "output_type": "execute_result"
    }
   ],
   "source": [
    "poverty = np.array(table['Poverty'].rank(pct=True))\n",
    "for i in range(len(poverty)):\n",
    "    poverty[i] = 1 - poverty[i]\n",
    "table['Poverty'].mean()"
   ]
  },
  {
   "cell_type": "code",
   "execution_count": 5,
   "metadata": {},
   "outputs": [
    {
     "data": {
      "text/plain": [
       "6.284901895576985"
      ]
     },
     "execution_count": 5,
     "metadata": {},
     "output_type": "execute_result"
    }
   ],
   "source": [
    "unemployment = np.array(table['Unemployment'].rank(pct=True))\n",
    "for i in range(len(unemployment)):\n",
    "    unemployment[i] = 1 - unemployment[i]\n",
    "table['Unemployment'].mean()"
   ]
  },
  {
   "cell_type": "code",
   "execution_count": 6,
   "metadata": {},
   "outputs": [
    {
     "data": {
      "text/plain": [
       "23.409910209511178"
      ]
     },
     "execution_count": 6,
     "metadata": {},
     "output_type": "execute_result"
    }
   ],
   "source": [
    "commute = np.array(table['MeanCommute'].rank(pct=True))\n",
    "for i in range(len(commute)):\n",
    "    commute[i] = 1 - commute[i]\n",
    "table['MeanCommute'].mean()"
   ]
  },
  {
   "cell_type": "code",
   "execution_count": 10,
   "metadata": {},
   "outputs": [
    {
     "data": {
      "text/plain": [
       "229.59070396703558"
      ]
     },
     "execution_count": 10,
     "metadata": {},
     "output_type": "execute_result"
    }
   ],
   "source": [
    "crimeRate = np.array(table['CrmRatePer100k'].rank(pct=True))\n",
    "# for i in range(len(crimeRate)):\n",
    "#     crimeRate[i] = 1 - crimeRate[i]\n",
    "table['CrmRatePer100k'].mean()"
   ]
  },
  {
   "cell_type": "code",
   "execution_count": 7,
   "metadata": {},
   "outputs": [
    {
     "data": {
      "text/plain": [
       "[3003]"
      ]
     },
     "execution_count": 7,
     "metadata": {},
     "output_type": "execute_result"
    }
   ],
   "source": [
    "temp = [None]*len(income)\n",
    "for i in range(len(income)):\n",
    "    temp[i] = (income[i]*200 + poverty[i]*250 + unemployment[i]*200 + commute[i]*100)\n",
    "\n",
    "m = max(temp)\n",
    "[i for i, j in enumerate(temp) if j == m]"
   ]
  },
  {
   "cell_type": "code",
   "execution_count": 9,
   "metadata": {},
   "outputs": [
    {
     "data": {
      "text/plain": [
       "array([3003, 56039, 'Teton County', 179.62996230000005, 0.0, 4.0, 1.0,\n",
       "       35.0, 28.0, 203.0, 22268.0, 271.0, 0.012169929944314713,\n",
       "       1.216992994431471, 'Wyoming', 22923, 12169, 10754, 15.0, 81.5, 0.5,\n",
       "       0.3, 2.2, 0.0, 16692, 80049, 4586, 49200, 4567, 6.8, 2.8, 39.4,\n",
       "       25.4, 17.0, 11.7, 6.5, 68.3, 6.7, 3.8, 11.7, 3.8, 5.7, 14.3, 14492,\n",
       "       82.1, 11.4, 6.5, 0.0, 1.3], dtype=object)"
      ]
     },
     "execution_count": 9,
     "metadata": {},
     "output_type": "execute_result"
    }
   ],
   "source": [
    "names = np.array(table)\n",
    "names[3003]"
   ]
  },
  {
   "cell_type": "code",
   "execution_count": null,
   "metadata": {},
   "outputs": [],
   "source": []
  }
 ],
 "metadata": {
  "kernelspec": {
   "display_name": "Python 3",
   "language": "python",
   "name": "python3"
  },
  "language_info": {
   "codemirror_mode": {
    "name": "ipython",
    "version": 3
   },
   "file_extension": ".py",
   "mimetype": "text/x-python",
   "name": "python",
   "nbconvert_exporter": "python",
   "pygments_lexer": "ipython3",
   "version": "3.7.3"
  }
 },
 "nbformat": 4,
 "nbformat_minor": 2
}
