{
 "cells": [
  {
   "cell_type": "code",
   "execution_count": 1,
   "metadata": {},
   "outputs": [],
   "source": [
    "import pandas as pd\n",
    "import numpy as np\n",
    "import random\n",
    "import pandas as pd\n",
    "import collections\n",
    "import scipy.io\n",
    "import csv\n",
    "import math"
   ]
  },
  {
   "cell_type": "code",
   "execution_count": 2,
   "metadata": {
    "scrolled": true
   },
   "outputs": [
    {
     "data": {
      "text/html": [
       "<div>\n",
       "<style scoped>\n",
       "    .dataframe tbody tr th:only-of-type {\n",
       "        vertical-align: middle;\n",
       "    }\n",
       "\n",
       "    .dataframe tbody tr th {\n",
       "        vertical-align: top;\n",
       "    }\n",
       "\n",
       "    .dataframe thead th {\n",
       "        text-align: right;\n",
       "    }\n",
       "</style>\n",
       "<table border=\"1\" class=\"dataframe\">\n",
       "  <thead>\n",
       "    <tr style=\"text-align: right;\">\n",
       "      <th></th>\n",
       "      <th>Unnamed: 0</th>\n",
       "      <th>CouId</th>\n",
       "      <th>County</th>\n",
       "      <th>CrmRatePer100k</th>\n",
       "      <th>MURDER</th>\n",
       "      <th>RAPE</th>\n",
       "      <th>ROBBERY</th>\n",
       "      <th>AGASSLT</th>\n",
       "      <th>BURGLRY</th>\n",
       "      <th>LARCENY</th>\n",
       "      <th>...</th>\n",
       "      <th>Walk</th>\n",
       "      <th>OtherTransp</th>\n",
       "      <th>WorkAtHome</th>\n",
       "      <th>MeanCommute</th>\n",
       "      <th>Employed</th>\n",
       "      <th>PrivateWork</th>\n",
       "      <th>PublicWork</th>\n",
       "      <th>SelfEmployed</th>\n",
       "      <th>FamilyWork</th>\n",
       "      <th>Unemployment</th>\n",
       "    </tr>\n",
       "  </thead>\n",
       "  <tbody>\n",
       "    <tr>\n",
       "      <th>0</th>\n",
       "      <td>0</td>\n",
       "      <td>1001</td>\n",
       "      <td>Autauga County</td>\n",
       "      <td>251.601926</td>\n",
       "      <td>3.0</td>\n",
       "      <td>15.0</td>\n",
       "      <td>34.0</td>\n",
       "      <td>87.0</td>\n",
       "      <td>447.0</td>\n",
       "      <td>1233.0</td>\n",
       "      <td>...</td>\n",
       "      <td>0.6</td>\n",
       "      <td>1.3</td>\n",
       "      <td>2.5</td>\n",
       "      <td>25.8</td>\n",
       "      <td>24112</td>\n",
       "      <td>74.1</td>\n",
       "      <td>20.2</td>\n",
       "      <td>5.6</td>\n",
       "      <td>0.1</td>\n",
       "      <td>5.2</td>\n",
       "    </tr>\n",
       "    <tr>\n",
       "      <th>1</th>\n",
       "      <td>1</td>\n",
       "      <td>1003</td>\n",
       "      <td>Baldwin County</td>\n",
       "      <td>228.086325</td>\n",
       "      <td>8.0</td>\n",
       "      <td>30.0</td>\n",
       "      <td>76.0</td>\n",
       "      <td>332.0</td>\n",
       "      <td>967.0</td>\n",
       "      <td>3829.0</td>\n",
       "      <td>...</td>\n",
       "      <td>0.8</td>\n",
       "      <td>1.1</td>\n",
       "      <td>5.6</td>\n",
       "      <td>27.0</td>\n",
       "      <td>89527</td>\n",
       "      <td>80.7</td>\n",
       "      <td>12.9</td>\n",
       "      <td>6.3</td>\n",
       "      <td>0.1</td>\n",
       "      <td>5.5</td>\n",
       "    </tr>\n",
       "    <tr>\n",
       "      <th>2</th>\n",
       "      <td>2</td>\n",
       "      <td>1005</td>\n",
       "      <td>Barbour County</td>\n",
       "      <td>177.278771</td>\n",
       "      <td>0.0</td>\n",
       "      <td>4.0</td>\n",
       "      <td>8.0</td>\n",
       "      <td>36.0</td>\n",
       "      <td>90.0</td>\n",
       "      <td>362.0</td>\n",
       "      <td>...</td>\n",
       "      <td>2.2</td>\n",
       "      <td>1.7</td>\n",
       "      <td>1.3</td>\n",
       "      <td>23.4</td>\n",
       "      <td>8878</td>\n",
       "      <td>74.1</td>\n",
       "      <td>19.1</td>\n",
       "      <td>6.5</td>\n",
       "      <td>0.3</td>\n",
       "      <td>12.4</td>\n",
       "    </tr>\n",
       "    <tr>\n",
       "      <th>3</th>\n",
       "      <td>3</td>\n",
       "      <td>1007</td>\n",
       "      <td>Bibb County</td>\n",
       "      <td>217.661691</td>\n",
       "      <td>1.0</td>\n",
       "      <td>4.0</td>\n",
       "      <td>8.0</td>\n",
       "      <td>36.0</td>\n",
       "      <td>122.0</td>\n",
       "      <td>251.0</td>\n",
       "      <td>...</td>\n",
       "      <td>0.3</td>\n",
       "      <td>1.7</td>\n",
       "      <td>1.5</td>\n",
       "      <td>30.0</td>\n",
       "      <td>8171</td>\n",
       "      <td>76.0</td>\n",
       "      <td>17.4</td>\n",
       "      <td>6.3</td>\n",
       "      <td>0.3</td>\n",
       "      <td>8.2</td>\n",
       "    </tr>\n",
       "    <tr>\n",
       "      <th>4</th>\n",
       "      <td>4</td>\n",
       "      <td>1009</td>\n",
       "      <td>Blount County</td>\n",
       "      <td>210.810064</td>\n",
       "      <td>1.0</td>\n",
       "      <td>11.0</td>\n",
       "      <td>9.0</td>\n",
       "      <td>101.0</td>\n",
       "      <td>397.0</td>\n",
       "      <td>865.0</td>\n",
       "      <td>...</td>\n",
       "      <td>0.4</td>\n",
       "      <td>0.4</td>\n",
       "      <td>2.1</td>\n",
       "      <td>35.0</td>\n",
       "      <td>21380</td>\n",
       "      <td>83.9</td>\n",
       "      <td>11.9</td>\n",
       "      <td>4.0</td>\n",
       "      <td>0.1</td>\n",
       "      <td>4.9</td>\n",
       "    </tr>\n",
       "  </tbody>\n",
       "</table>\n",
       "<p>5 rows × 49 columns</p>\n",
       "</div>"
      ],
      "text/plain": [
       "   Unnamed: 0  CouId          County  CrmRatePer100k  MURDER  RAPE  ROBBERY  \\\n",
       "0           0   1001  Autauga County      251.601926     3.0  15.0     34.0   \n",
       "1           1   1003  Baldwin County      228.086325     8.0  30.0     76.0   \n",
       "2           2   1005  Barbour County      177.278771     0.0   4.0      8.0   \n",
       "3           3   1007     Bibb County      217.661691     1.0   4.0      8.0   \n",
       "4           4   1009   Blount County      210.810064     1.0  11.0      9.0   \n",
       "\n",
       "   AGASSLT  BURGLRY  LARCENY  ...  Walk  OtherTransp  WorkAtHome  MeanCommute  \\\n",
       "0     87.0    447.0   1233.0  ...   0.6          1.3         2.5         25.8   \n",
       "1    332.0    967.0   3829.0  ...   0.8          1.1         5.6         27.0   \n",
       "2     36.0     90.0    362.0  ...   2.2          1.7         1.3         23.4   \n",
       "3     36.0    122.0    251.0  ...   0.3          1.7         1.5         30.0   \n",
       "4    101.0    397.0    865.0  ...   0.4          0.4         2.1         35.0   \n",
       "\n",
       "  Employed  PrivateWork  PublicWork  SelfEmployed  FamilyWork  Unemployment  \n",
       "0    24112         74.1        20.2           5.6         0.1           5.2  \n",
       "1    89527         80.7        12.9           6.3         0.1           5.5  \n",
       "2     8878         74.1        19.1           6.5         0.3          12.4  \n",
       "3     8171         76.0        17.4           6.3         0.3           8.2  \n",
       "4    21380         83.9        11.9           4.0         0.1           4.9  \n",
       "\n",
       "[5 rows x 49 columns]"
      ]
     },
     "execution_count": 2,
     "metadata": {},
     "output_type": "execute_result"
    }
   ],
   "source": [
    "table = pd.read_csv('final.csv')\n",
    "table.fillna(0, inplace=True)\n",
    "table.head()"
   ]
  },
  {
   "cell_type": "code",
   "execution_count": 3,
   "metadata": {},
   "outputs": [
    {
     "name": "stdout",
     "output_type": "stream",
     "text": [
      "Unnamed: 0\n",
      "CouId\n",
      "County\n",
      "CrmRatePer100k\n",
      "MURDER\n",
      "RAPE\n",
      "ROBBERY\n",
      "AGASSLT\n",
      "BURGLRY\n",
      "LARCENY\n",
      "Pop\n",
      "SumVCrm\n",
      "SumVCrm/Pop\n",
      "%SumVCrm/Pop\n",
      "State\n",
      "TotalPop\n",
      "Men\n",
      "Women\n",
      "Hispanic\n",
      "White\n",
      "Black\n",
      "Native\n",
      "Asian\n",
      "Pacific\n",
      "VotingAgeCitizen\n",
      "Income\n",
      "IncomeErr\n",
      "IncomePerCap\n",
      "IncomePerCapErr\n",
      "Poverty\n",
      "ChildPoverty\n",
      "Professional\n",
      "Service\n",
      "Office\n",
      "Construction\n",
      "Production\n",
      "Drive\n",
      "Carpool\n",
      "Transit\n",
      "Walk\n",
      "OtherTransp\n",
      "WorkAtHome\n",
      "MeanCommute\n",
      "Employed\n",
      "PrivateWork\n",
      "PublicWork\n",
      "SelfEmployed\n",
      "FamilyWork\n",
      "Unemployment\n"
     ]
    }
   ],
   "source": [
    "for col in table.columns: \n",
    "    print(col) "
   ]
  },
  {
   "cell_type": "code",
   "execution_count": 4,
   "metadata": {},
   "outputs": [
    {
     "name": "stdout",
     "output_type": "stream",
     "text": [
      "[7.43 6.66 0.59 ... 7.27 6.21 8.34]\n"
     ]
    },
    {
     "data": {
      "text/plain": [
       "49705.00997672098"
      ]
     },
     "execution_count": 4,
     "metadata": {},
     "output_type": "execute_result"
    }
   ],
   "source": [
    "income = np.array(table['Income'].rank(pct=True))\n",
    "for i in range(len(income)):\n",
    "    income[i] *= 10\n",
    "    income[i] = round(income[i], 2)\n",
    "print(income)\n",
    "table['Income'].mean()"
   ]
  },
  {
   "cell_type": "code",
   "execution_count": 5,
   "metadata": {},
   "outputs": [
    {
     "name": "stdout",
     "output_type": "stream",
     "text": [
      "[5.86 7.16 0.51 ... 5.09 6.56 5.4 ]\n"
     ]
    },
    {
     "data": {
      "text/plain": [
       "15.85623545061525"
      ]
     },
     "execution_count": 5,
     "metadata": {},
     "output_type": "execute_result"
    }
   ],
   "source": [
    "poverty = np.array(table['Poverty'].rank(pct=True))\n",
    "for i in range(len(poverty)):\n",
    "    poverty[i] = 1 - poverty[i]\n",
    "for i in range(len(poverty)):\n",
    "    poverty[i] *= 10\n",
    "    poverty[i] = round(poverty[i], 2)\n",
    "print(poverty)\n",
    "table['Poverty'].mean()"
   ]
  },
  {
   "cell_type": "code",
   "execution_count": 6,
   "metadata": {},
   "outputs": [
    {
     "name": "stdout",
     "output_type": "stream",
     "text": [
      "[7.08 8.99 5.05 ... 4.32 1.78 1.52]\n"
     ]
    },
    {
     "data": {
      "text/plain": [
       "103558.67708679747"
      ]
     },
     "execution_count": 6,
     "metadata": {},
     "output_type": "execute_result"
    }
   ],
   "source": [
    "population = np.array(table['TotalPop'].rank(pct=True))\n",
    "for i in range(len(population)):\n",
    "    population[i] *= 10\n",
    "    population[i] = round(population[i], 2)\n",
    "print(population)\n",
    "table['TotalPop'].mean()"
   ]
  },
  {
   "cell_type": "code",
   "execution_count": 7,
   "metadata": {},
   "outputs": [
    {
     "name": "stdout",
     "output_type": "stream",
     "text": [
      "[5.35 6.96 0.28 ... 5.42 6.43 3.72]\n"
     ]
    },
    {
     "data": {
      "text/plain": [
       "21.922414366478254"
      ]
     },
     "execution_count": 7,
     "metadata": {},
     "output_type": "execute_result"
    }
   ],
   "source": [
    "childPoverty = np.array(table['ChildPoverty'].rank(pct=True))\n",
    "for i in range(len(childPoverty)):\n",
    "    childPoverty[i] = 1 - childPoverty[i]\n",
    "for i in range(len(childPoverty)):\n",
    "    childPoverty[i] *= 10\n",
    "    childPoverty[i] = round(childPoverty[i], 2)\n",
    "print(childPoverty)\n",
    "table['ChildPoverty'].mean()"
   ]
  },
  {
   "cell_type": "code",
   "execution_count": 8,
   "metadata": {},
   "outputs": [
    {
     "name": "stdout",
     "output_type": "stream",
     "text": [
      "[6.29 5.81 0.32 ... 4.34 4.84 9.45]\n"
     ]
    },
    {
     "data": {
      "text/plain": [
       "6.284901895576985"
      ]
     },
     "execution_count": 8,
     "metadata": {},
     "output_type": "execute_result"
    }
   ],
   "source": [
    "unemployment = np.array(table['Unemployment'].rank(pct=True))\n",
    "for i in range(len(unemployment)):\n",
    "    unemployment[i] = 1 - unemployment[i]\n",
    "for i in range(len(unemployment)):\n",
    "    unemployment[i] *= 10\n",
    "    unemployment[i] = round(unemployment[i], 2)\n",
    "print(unemployment)\n",
    "table['Unemployment'].mean()"
   ]
  },
  {
   "cell_type": "code",
   "execution_count": 9,
   "metadata": {},
   "outputs": [
    {
     "name": "stdout",
     "output_type": "stream",
     "text": [
      "[3.07 2.41 4.78 ... 7.3  9.62 3.14]\n"
     ]
    },
    {
     "data": {
      "text/plain": [
       "23.409910209511178"
      ]
     },
     "execution_count": 9,
     "metadata": {},
     "output_type": "execute_result"
    }
   ],
   "source": [
    "commute = np.array(table['MeanCommute'].rank(pct=True))\n",
    "for i in range(len(commute)):\n",
    "    commute[i] = 1 - commute[i]\n",
    "for i in range(len(commute)):\n",
    "    commute[i] *= 10\n",
    "    commute[i] = round(commute[i], 2)\n",
    "print(commute)\n",
    "table['MeanCommute'].mean()"
   ]
  },
  {
   "cell_type": "code",
   "execution_count": 10,
   "metadata": {},
   "outputs": [
    {
     "name": "stdout",
     "output_type": "stream",
     "text": [
      "[3.53 4.05 5.12 ... 9.14 8.42 8.14]\n"
     ]
    },
    {
     "data": {
      "text/plain": [
       "229.59070396703558"
      ]
     },
     "execution_count": 10,
     "metadata": {},
     "output_type": "execute_result"
    }
   ],
   "source": [
    "crimeRate = np.array(table['CrmRatePer100k'].rank(pct=True))\n",
    "for i in range(len(crimeRate)):\n",
    "    crimeRate[i] = 1 - crimeRate[i]\n",
    "for i in range(len(crimeRate)):\n",
    "    crimeRate[i] *= 10\n",
    "    crimeRate[i] = round(crimeRate[i], 2)\n",
    "print(crimeRate)\n",
    "table['CrmRatePer100k'].mean()"
   ]
  },
  {
   "cell_type": "code",
   "execution_count": 11,
   "metadata": {},
   "outputs": [
    {
     "name": "stdout",
     "output_type": "stream",
     "text": [
      "[1.77 3.65 4.91 ... 7.87 9.33 7.9 ]\n"
     ]
    },
    {
     "data": {
      "text/plain": [
       "0.0005792761181876592"
      ]
     },
     "execution_count": 11,
     "metadata": {},
     "output_type": "execute_result"
    }
   ],
   "source": [
    "table['violent'] = table.apply(lambda row: (row.MURDER + row.RAPE + row.ROBBERY)/row.Pop, axis=1)\n",
    "violentCrime = np.array(table['violent'].rank(pct=True))\n",
    "for i in range(len(violentCrime)):\n",
    "    violentCrime[i] = 1 - violentCrime[i]\n",
    "for i in range(len(violentCrime)):\n",
    "    violentCrime[i] *= 10\n",
    "    violentCrime[i] = round(violentCrime[i], 2)\n",
    "print(violentCrime)\n",
    "table['violent'].mean()"
   ]
  },
  {
   "cell_type": "code",
   "execution_count": 12,
   "metadata": {
    "scrolled": true
   },
   "outputs": [
    {
     "name": "stdout",
     "output_type": "stream",
     "text": [
      "0       6.5\n",
      "1       6.9\n",
      "2       0.5\n",
      "3       3.7\n",
      "4       4.4\n",
      "5       0.3\n",
      "6       1.0\n",
      "7       3.1\n",
      "8       1.9\n",
      "9       3.4\n",
      "10      2.9\n",
      "11      0.9\n",
      "12      0.9\n",
      "13      2.2\n",
      "14      1.8\n",
      "15      4.7\n",
      "16      3.9\n",
      "17      0.4\n",
      "18      3.3\n",
      "19      2.6\n",
      "20      2.8\n",
      "21      3.6\n",
      "22      3.1\n",
      "23      0.2\n",
      "24      1.7\n",
      "25      6.5\n",
      "26      1.0\n",
      "27      2.8\n",
      "28      2.1\n",
      "29      1.4\n",
      "       ... \n",
      "2977    5.2\n",
      "2978    9.6\n",
      "2979    9.8\n",
      "2980    7.2\n",
      "2981    6.2\n",
      "2982    7.2\n",
      "2983    6.9\n",
      "2984    4.1\n",
      "2985    6.7\n",
      "2986    9.1\n",
      "2987    7.4\n",
      "2988    9.1\n",
      "2989    9.5\n",
      "2990    6.6\n",
      "2991    5.6\n",
      "2992    5.6\n",
      "2993    7.5\n",
      "2994    8.5\n",
      "2995    8.8\n",
      "2996    8.3\n",
      "2997    3.7\n",
      "2998    9.0\n",
      "2999    6.0\n",
      "3000    8.7\n",
      "3001    9.7\n",
      "3002    8.2\n",
      "3003    9.7\n",
      "3004    6.2\n",
      "3005    6.4\n",
      "3006    6.5\n",
      "Name: economyScore, Length: 3007, dtype: float64\n"
     ]
    }
   ],
   "source": [
    "table['economyScore'] = income*0.5 + poverty*0.3 + childPoverty*0.2\n",
    "table['economyScore'] = table['economyScore'].round(1)\n",
    "print(table['economyScore'])"
   ]
  },
  {
   "cell_type": "code",
   "execution_count": 13,
   "metadata": {},
   "outputs": [
    {
     "name": "stdout",
     "output_type": "stream",
     "text": [
      "0       3.0\n",
      "1       3.9\n",
      "2       5.1\n",
      "3       4.1\n",
      "4       4.7\n",
      "5       0.8\n",
      "6       0.9\n",
      "7       0.6\n",
      "8       1.0\n",
      "9       3.0\n",
      "10      2.4\n",
      "11      7.7\n",
      "12      1.1\n",
      "13      3.0\n",
      "14      5.5\n",
      "15      3.2\n",
      "16      1.2\n",
      "17      0.7\n",
      "18      5.0\n",
      "19      3.6\n",
      "20      2.0\n",
      "21      4.3\n",
      "22      1.7\n",
      "23      0.1\n",
      "24      2.8\n",
      "25      2.7\n",
      "26      1.1\n",
      "27      0.8\n",
      "28      3.6\n",
      "29      1.5\n",
      "       ... \n",
      "2977    6.2\n",
      "2978    7.4\n",
      "2979    8.0\n",
      "2980    6.9\n",
      "2981    6.5\n",
      "2982    5.2\n",
      "2983    8.3\n",
      "2984    6.1\n",
      "2985    6.4\n",
      "2986    7.0\n",
      "2987    3.5\n",
      "2988    4.4\n",
      "2989    7.0\n",
      "2990    4.8\n",
      "2991    4.8\n",
      "2992    7.0\n",
      "2993    6.0\n",
      "2994    3.7\n",
      "2995    8.7\n",
      "2996    5.4\n",
      "2997    7.5\n",
      "2998    3.5\n",
      "2999    8.6\n",
      "3000    7.3\n",
      "3001    7.2\n",
      "3002    2.0\n",
      "3003    5.7\n",
      "3004    8.8\n",
      "3005    8.7\n",
      "3006    8.1\n",
      "Name: safetyScore, Length: 3007, dtype: float64\n"
     ]
    }
   ],
   "source": [
    "table['safetyScore'] = crimeRate*0.7 + violentCrime*0.3\n",
    "table['safetyScore'] = table['safetyScore'].round(1)\n",
    "print(table['safetyScore'])"
   ]
  },
  {
   "cell_type": "code",
   "execution_count": 14,
   "metadata": {},
   "outputs": [
    {
     "name": "stdout",
     "output_type": "stream",
     "text": [
      "0       5.6\n",
      "1       6.1\n",
      "2       3.6\n",
      "3       2.8\n",
      "4       5.0\n",
      "5       1.4\n",
      "6       4.0\n",
      "7       4.7\n",
      "8       5.0\n",
      "9       4.6\n",
      "10      3.9\n",
      "11      1.6\n",
      "12      3.3\n",
      "13      2.8\n",
      "14      2.2\n",
      "15      6.1\n",
      "16      5.4\n",
      "17      1.6\n",
      "18      1.5\n",
      "19      3.7\n",
      "20      3.0\n",
      "21      5.5\n",
      "22      5.0\n",
      "23      4.3\n",
      "24      6.5\n",
      "25      4.6\n",
      "26      4.1\n",
      "27      5.4\n",
      "28      2.6\n",
      "29      3.4\n",
      "       ... \n",
      "2977    5.1\n",
      "2978    7.2\n",
      "2979    7.7\n",
      "2980    6.7\n",
      "2981    4.7\n",
      "2982    8.5\n",
      "2983    7.4\n",
      "2984    7.5\n",
      "2985    5.6\n",
      "2986    6.9\n",
      "2987    6.7\n",
      "2988    4.2\n",
      "2989    3.7\n",
      "2990    6.5\n",
      "2991    4.9\n",
      "2992    5.0\n",
      "2993    4.2\n",
      "2994    7.8\n",
      "2995    4.0\n",
      "2996    7.7\n",
      "2997    6.0\n",
      "2998    7.3\n",
      "2999    6.2\n",
      "3000    7.6\n",
      "3001    5.2\n",
      "3002    6.6\n",
      "3003    7.7\n",
      "3004    5.2\n",
      "3005    5.0\n",
      "3006    4.4\n",
      "Name: communityScore, Length: 3007, dtype: float64\n"
     ]
    }
   ],
   "source": [
    "table['communityScore'] = unemployment*0.3 + commute*0.3 + population*0.4\n",
    "table['communityScore'] = table['communityScore'].round(1)\n",
    "print(table['communityScore'])"
   ]
  },
  {
   "cell_type": "code",
   "execution_count": 15,
   "metadata": {},
   "outputs": [
    {
     "name": "stdout",
     "output_type": "stream",
     "text": [
      "0       5.2\n",
      "1       5.8\n",
      "2       2.8\n",
      "3       3.6\n",
      "4       4.7\n",
      "5       0.8\n",
      "6       1.9\n",
      "7       2.8\n",
      "8       2.6\n",
      "9       3.6\n",
      "10      3.0\n",
      "11      3.2\n",
      "12      1.7\n",
      "13      2.6\n",
      "14      3.0\n",
      "15      4.7\n",
      "16      3.5\n",
      "17      0.8\n",
      "18      3.3\n",
      "19      3.2\n",
      "20      2.6\n",
      "21      4.4\n",
      "22      3.2\n",
      "23      1.4\n",
      "24      3.5\n",
      "25      4.8\n",
      "26      2.0\n",
      "27      3.0\n",
      "28      2.7\n",
      "29      2.0\n",
      "       ... \n",
      "2977    5.5\n",
      "2978    8.2\n",
      "2979    8.6\n",
      "2980    7.0\n",
      "2981    5.8\n",
      "2982    7.0\n",
      "2983    7.5\n",
      "2984    5.7\n",
      "2985    6.3\n",
      "2986    7.8\n",
      "2987    6.0\n",
      "2988    6.2\n",
      "2989    7.0\n",
      "2990    6.0\n",
      "2991    5.2\n",
      "2992    5.8\n",
      "2993    6.1\n",
      "2994    6.8\n",
      "2995    7.3\n",
      "2996    7.3\n",
      "2997    5.5\n",
      "2998    6.8\n",
      "2999    6.8\n",
      "3000    8.0\n",
      "3001    7.6\n",
      "3002    5.9\n",
      "3003    7.9\n",
      "3004    6.7\n",
      "3005    6.7\n",
      "3006    6.4\n",
      "Name: overallScore, Length: 3007, dtype: float64\n"
     ]
    },
    {
     "data": {
      "text/plain": [
       "[31]"
      ]
     },
     "execution_count": 15,
     "metadata": {},
     "output_type": "execute_result"
    }
   ],
   "source": [
    "table['overallScore'] = table.apply(lambda row: row.economyScore*0.4 + row.communityScore*0.3 + row.safetyScore*0.3, axis=1)\n",
    "table['overallScore'] = table['overallScore'].round(1)\n",
    "print(table['overallScore'])\n",
    "\n",
    "best = max(table['overallScore'])\n",
    "worst = min(table['overallScore'])\n",
    "[i for i, j in enumerate(table['overallScore']) if j == best]\n",
    "[i for i, j in enumerate(table['overallScore']) if j == worst]"
   ]
  },
  {
   "cell_type": "code",
   "execution_count": 17,
   "metadata": {},
   "outputs": [
    {
     "data": {
      "text/plain": [
       "array([31, 1063, 'Greene County', 903.4766697, 0.0, 2.0, 7.0, 70.0, 48.0,\n",
       "       90.0, 8744.0, 217.0, 0.024817017383348586, 2.4817017383348583,\n",
       "       'Alabama', 8533, 4058, 4475, 1.2, 17.1, 80.3, 0.6, 0.0, 0.0, 6533,\n",
       "       20954, 3315, 14197, 1242, 38.8, 67.8, 22.3, 18.0, 25.9, 9.2, 24.6,\n",
       "       80.0, 12.8, 0.0, 1.1, 1.9, 4.1, 29.7, 2411, 73.4, 22.0, 4.6, 0.0,\n",
       "       14.8, 0.0010292772186642268, 0.0, 0.5, 1.2, 0.5], dtype=object)"
      ]
     },
     "execution_count": 17,
     "metadata": {},
     "output_type": "execute_result"
    }
   ],
   "source": [
    "names = np.array(table)\n",
    "names[31]"
   ]
  },
  {
   "cell_type": "code",
   "execution_count": null,
   "metadata": {},
   "outputs": [],
   "source": []
  }
 ],
 "metadata": {
  "kernelspec": {
   "display_name": "Python 3",
   "language": "python",
   "name": "python3"
  },
  "language_info": {
   "codemirror_mode": {
    "name": "ipython",
    "version": 3
   },
   "file_extension": ".py",
   "mimetype": "text/x-python",
   "name": "python",
   "nbconvert_exporter": "python",
   "pygments_lexer": "ipython3",
   "version": "3.7.3"
  }
 },
 "nbformat": 4,
 "nbformat_minor": 2
}
