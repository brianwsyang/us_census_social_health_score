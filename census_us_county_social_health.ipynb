{
 "cells": [
  {
   "cell_type": "code",
   "execution_count": null,
   "metadata": {
    "scrolled": true
   },
   "outputs": [],
   "source": [
    "\"\"\"\n",
    "@author: brianwsyang\n",
    "@date: Sat Jul 13 2019\n",
    "\"\"\"\n",
    "\n",
    "import pandas as pd\n",
    "import re as regex"
   ]
  },
  {
   "cell_type": "code",
   "execution_count": null,
   "metadata": {
    "scrolled": true
   },
   "outputs": [],
   "source": [
    "# convert CRM01.xls with multiple sheets to single CRM01.csv file\n",
    "\n",
    "crm01_xls = pd.ExcelFile('CRM01.xls')\n",
    "\n",
    "crm01_sheet_map = {}\n",
    "for sheet_name in crm01_xls.sheet_names:\n",
    "    crm01_sheet_map[sheet_name] = crm01_xls.parse(sheet_name)\n",
    "\n",
    "crm01_keys = []\n",
    "for k in crm01_sheet_map:\n",
    "    crm01_keys.append(k)\n",
    "crm01_key0 = crm01_keys.pop(0)\n",
    "\n",
    "crm01 = crm01_sheet_map[crm01_key0]\n",
    "for k in crm01_keys:\n",
    "    sheet = crm01_sheet_map[k].drop(['STCOU'], axis=1)\n",
    "    crm01 = crm01.merge(sheet, on='Areaname')\n",
    "\n",
    "# crm01.to_csv('CRM01.csv')\n",
    "print('done.')\n",
    "\n",
    "\n",
    "\n",
    "# convert CRM02.xls with multiple sheets to single CRM02.csv file\n",
    "\n",
    "crm02_xls = pd.ExcelFile('CRM02.xls')\n",
    "\n",
    "crm02_sheet_map = {}\n",
    "for sheet_name in crm02_xls.sheet_names:\n",
    "    crm02_sheet_map[sheet_name] = crm02_xls.parse(sheet_name)\n",
    "\n",
    "crm02_keys = []\n",
    "for k in crm02_sheet_map:\n",
    "    crm02_keys.append(k)\n",
    "crm02_key0 = crm02_keys.pop(0)\n",
    "\n",
    "crm02 = crm02_sheet_map[crm02_key0]\n",
    "for k in crm02_keys:\n",
    "    sheet = crm02_sheet_map[k].drop(['STCOU'], axis=1)\n",
    "    crm02 = crm02.merge(sheet, on='Areaname')\n",
    "\n",
    "# crm02.to_csv('CRM02.csv')\n",
    "print('done.')\n",
    "\n",
    "\n",
    "\n",
    "# convert CRM03.xls with multiple sheets to single CRM03.csv file\n",
    "\n",
    "crm03_xls = pd.ExcelFile('CRM03.xls')\n",
    "\n",
    "crm03_sheet_map = {}\n",
    "for sheet_name in crm03_xls.sheet_names:\n",
    "    crm03_sheet_map[sheet_name] = crm03_xls.parse(sheet_name)\n",
    "\n",
    "crm03_keys = []\n",
    "for k in crm03_sheet_map:\n",
    "    crm03_keys.append(k)\n",
    "crm03_key0 = crm03_keys.pop(0)\n",
    "\n",
    "crm03 = crm03_sheet_map[crm03_key0]\n",
    "for k in crm03_keys:\n",
    "    sheet = crm03_sheet_map[k].drop(['STCOU'], axis=1)\n",
    "    crm03 = crm03.merge(sheet, on='Areaname')\n",
    "\n",
    "# crm03.to_csv('CRM03.csv')\n",
    "print('done.')"
   ]
  },
  {
   "cell_type": "code",
   "execution_count": null,
   "metadata": {},
   "outputs": [],
   "source": [
    "# crm = crm01.merge(crm02.drop(['STCOU'], axis=1), on='Areaname')\n",
    "# crm = crm.merge(crm03.drop(['STCOU'], axis=1), on='Areaname')"
   ]
  },
  {
   "cell_type": "code",
   "execution_count": null,
   "metadata": {},
   "outputs": [],
   "source": [
    "# crm"
   ]
  },
  {
   "cell_type": "code",
   "execution_count": null,
   "metadata": {},
   "outputs": [],
   "source": []
  }
 ],
 "metadata": {
  "kernelspec": {
   "display_name": "Python 3",
   "language": "python",
   "name": "python3"
  },
  "language_info": {
   "codemirror_mode": {
    "name": "ipython",
    "version": 3
   },
   "file_extension": ".py",
   "mimetype": "text/x-python",
   "name": "python",
   "nbconvert_exporter": "python",
   "pygments_lexer": "ipython3",
   "version": "3.7.3"
  }
 },
 "nbformat": 4,
 "nbformat_minor": 2
}
